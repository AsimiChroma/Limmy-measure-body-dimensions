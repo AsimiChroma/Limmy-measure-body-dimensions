{
 "cells": [
  {
   "cell_type": "code",
   "execution_count": 5,
   "metadata": {},
   "outputs": [],
   "source": [
    "import numpy as np\n",
    "import cv2\n",
    "from skimage.feature import hog\n",
    "import import_ipynb\n",
    "import SVM\n",
    "import HOG\n",
    "import time"
   ]
  },
  {
   "cell_type": "code",
   "execution_count": 6,
   "metadata": {},
   "outputs": [],
   "source": [
    "clf = SVM.Load_array('clf')"
   ]
  },
  {
   "cell_type": "code",
   "execution_count": 9,
   "metadata": {},
   "outputs": [],
   "source": [
    "cap = cv2.VideoCapture('anqi6.avi')\n",
    "\n",
    "found = 189\n",
    "while (cap.isOpened()):\n",
    "    # Capture frame-by-frame\n",
    "    ret, frame = cap.read()\n",
    "    \n",
    "    if np.shape(frame) == ():\n",
    "        break\n",
    "\n",
    "    # Our operations on the frame come here\n",
    "    box, score = HOG.single_window(frame,clf)\n",
    "\n",
    "    crop = frame[0:frame.shape[0], int(frame.shape[1]/2-frame.shape[0]/2):int(frame.shape[1]/2+frame.shape[0]/2)]\n",
    "    crop = cv2.resize(crop, dsize=(228, 228), interpolation=cv2.INTER_CUBIC)    \n",
    "    if box[2]-box[0] > 0 and box[3] - box[1] > 0:\n",
    "        cv2.imwrite(r'C:\\Users\\Anqi\\Documents\\TensorFlow\\Train\\Avi\\Train' + str(found) + '.jpg',crop)\n",
    "        found = found + 1\n",
    "    \n",
    "        #cv2.rectangle(frame, (box[0], box[1]), (box[2], box[3]), (0, 255, 0), 2)\n",
    "        \n",
    "    # Display the resulting frame\n",
    "    cv2.imshow('frame',frame)\n",
    "    if cv2.waitKey(40) & 0xFF == ord('q'):\n",
    "        break\n",
    "\n",
    "# When everything done, release the capture\n",
    "cap.release()\n",
    "cv2.destroyAllWindows()"
   ]
  },
  {
   "cell_type": "code",
   "execution_count": null,
   "metadata": {},
   "outputs": [],
   "source": []
  }
 ],
 "metadata": {
  "kernelspec": {
   "display_name": "Python 3",
   "language": "python",
   "name": "python3"
  },
  "language_info": {
   "codemirror_mode": {
    "name": "ipython",
    "version": 3
   },
   "file_extension": ".py",
   "mimetype": "text/x-python",
   "name": "python",
   "nbconvert_exporter": "python",
   "pygments_lexer": "ipython3",
   "version": "3.7.6"
  }
 },
 "nbformat": 4,
 "nbformat_minor": 2
}
