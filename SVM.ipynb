{
 "cells": [
  {
   "cell_type": "code",
   "execution_count": 1,
   "metadata": {},
   "outputs": [],
   "source": [
    "import numpy as np\n",
    "import cv2\n",
    "import os\n",
    "import struct\n",
    "import pickle as pkl\n",
    "from skimage.feature import hog\n",
    "from sklearn.svm import LinearSVC"
   ]
  },
  {
   "cell_type": "code",
   "execution_count": 2,
   "metadata": {},
   "outputs": [],
   "source": [
    "def Save_array(name, array):\n",
    "    with open(name + '.pkl', 'wb') as f:\n",
    "        pkl.dump(array, f)"
   ]
  },
  {
   "cell_type": "code",
   "execution_count": 3,
   "metadata": {},
   "outputs": [],
   "source": [
    "def Load_array(name):\n",
    "    with open(name + '.pkl', 'rb') as f:\n",
    "        arr = pkl.load(f)\n",
    "    return arr"
   ]
  },
  {
   "cell_type": "code",
   "execution_count": 4,
   "metadata": {},
   "outputs": [],
   "source": [
    "def List_histograms(directory):\n",
    "         \n",
    "    filelist = [fn for fn in os.listdir(directory) if fn.endswith('bmp')] #Change to jpg if needed\n",
    "    number_files = len(filelist) \n",
    "    imagelist = np.empty([number_files,3780])\n",
    "    \n",
    "    for filename in enumerate(filelist):\n",
    "        name, file_extension = os.path.splitext(filename[1])       \n",
    "        img = cv2.imread(directory + \"\\\\\" +  filename[1])\n",
    "        img_gray = cv2.cvtColor(img, cv2.COLOR_BGR2GRAY)\n",
    "        img = cv2.resize(img_gray, dsize=(64, 128), interpolation=cv2.INTER_CUBIC)  \n",
    "        imagelist[filename[0]],_ = hog(img, orientations=9, pixels_per_cell=(8, 8),cells_per_block=(2, 2), visualize=True) #HOG.HistogramOfGradients(img)\n",
    "        \n",
    "    return imagelist"
   ]
  },
  {
   "cell_type": "code",
   "execution_count": 5,
   "metadata": {},
   "outputs": [],
   "source": [
    "#directory = r'D:\\DATA\\Pedestrians\\MIT\\archive'\n",
    "#peds = List_histograms(directory)\n",
    "#directory = r'D:\\DATA\\Background'\n",
    "#backgrounds = List_histograms(directory) \n",
    "#directory = r'D:\\DATA\\Background1\\images'\n",
    "#backgrounds1 = List_histograms(directory)\n",
    "#directory = r'D:\\DATA\\Pedestrians\\3DPeS\\archive'\n",
    "#caviar = List_histograms(directory)\n",
    "#directory = r'D:\\DATA\\Pedestrians\\CUHK\\archive'\n",
    "#CUHK = List_histograms(directory)\n",
    "#directory = r'D:\\DATA\\Pedestrians\\SARC3D\\archive'\n",
    "#SAR3D = List_histograms(directory)\n",
    "#directory = r'D:\\DATA\\Pedestrians\\TownCentre\\archive'\n",
    "#TownCentre = List_histograms(directory)\n",
    "#directory = r'D:\\DATA\\Pedestrians\\VIPeR\\archive'\n",
    "#Viper = List_histograms(directory)\n",
    "\n",
    "\n",
    "\n",
    "\n",
    "#Save_array('peds',peds)\n",
    "#Save_array('backgrounds',backgrounds)\n",
    "#Save_array('backgrounds1',backgrounds1)\n",
    "#Save_array('caviar',caviar)\n",
    "#Save_array('CUHK',CUHK)\n",
    "#Save_array('SAR3D',SAR3D)\n",
    "#Save_array('TownCentre',TownCentre)\n",
    "#Save_array('Viper',Viper)\n",
    "\n",
    "\n",
    "peds = Load_array('peds')\n",
    "backgrounds = Load_array('backgrounds')\n",
    "backgrounds1 = Load_array('backgrounds1')\n",
    "caviar = Load_array('caviar')\n",
    "CUHK = Load_array('CUHK')\n",
    "SAR3D = Load_array('SAR3D')\n",
    "TownCentre = Load_array('TownCentre')\n",
    "Viper = Load_array('Viper')\n",
    "\n",
    "#Save_array('clf',clf)\n",
    "#clf = Load_array('clf')"
   ]
  },
  {
   "cell_type": "code",
   "execution_count": 6,
   "metadata": {},
   "outputs": [],
   "source": [
    "good1 = np.empty(peds.shape[0],dtype=bool)\n",
    "good1.fill(True)\n",
    "good2 = np.empty(Viper.shape[0],dtype=bool)\n",
    "good2.fill(True)\n",
    "bad1 = np.empty(backgrounds.shape[0],dtype=bool)\n",
    "bad1.fill(False)\n",
    "bad2 = np.empty(backgrounds1.shape[0],dtype=bool)\n",
    "bad2.fill(False)\n",
    "good3 = np.empty(TownCentre.shape[0],dtype=bool)\n",
    "good3.fill(True)\n",
    "good4 = np.empty(caviar.shape[0],dtype=bool)\n",
    "good4.fill(True)\n",
    "good5 = np.empty(CUHK.shape[0],dtype=bool)\n",
    "good5.fill(True)\n",
    "good6 = np.empty(SAR3D.shape[0],dtype=bool)\n",
    "good6.fill(True)"
   ]
  },
  {
   "cell_type": "code",
   "execution_count": 7,
   "metadata": {},
   "outputs": [],
   "source": [
    "featVector = np.concatenate((peds,backgrounds,Viper,backgrounds1,TownCentre,caviar,CUHK,SAR3D),axis=0)\n",
    "labels = np.concatenate((good1,bad1, good2, bad2, good3, good4, good5, good6),axis=0)\n",
    "\n",
    "clf = LinearSVC(random_state = 0, tol=1e-5)\n",
    "clf.fit(featVector, labels)\n",
    "\n",
    "#print(\"svm coefs: \" + str(clf.coef_))\n",
    "#print(\"svm bias: \" + str(clf.intercept_))"
   ]
  },
  {
   "cell_type": "code",
   "execution_count": 8,
   "metadata": {},
   "outputs": [],
   "source": [
    "#Save_array('clf',clf)"
   ]
  },
  {
   "cell_type": "code",
   "execution_count": null,
   "metadata": {},
   "outputs": [],
   "source": []
  }
 ],
 "metadata": {
  "kernelspec": {
   "display_name": "Python 3",
   "language": "python",
   "name": "python3"
  },
  "language_info": {
   "codemirror_mode": {
    "name": "ipython",
    "version": 3
   },
   "file_extension": ".py",
   "mimetype": "text/x-python",
   "name": "python",
   "nbconvert_exporter": "python",
   "pygments_lexer": "ipython3",
   "version": "3.7.6"
  }
 },
 "nbformat": 4,
 "nbformat_minor": 2
}
